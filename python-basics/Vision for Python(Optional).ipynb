{
 "cells": [
  {
   "cell_type": "markdown",
   "id": "contained-conviction",
   "metadata": {},
   "source": [
    "### Story time"
   ]
  },
  {
   "cell_type": "markdown",
   "id": "demographic-community",
   "metadata": {},
   "source": [
    "For a long time, the programming language Perl was the mainstay of the Internet. Most interactive websites in the early days were powered by Perl scripts. The Perl community’s motto at the time was, “There’s more than one way to do it.”\n",
    "\n",
    "People liked this mind-set for a while, because the flexibility written into the language made it possible to solve most problems in a variety of ways. This approach was acceptable while working on our own projects, but eventually people realized that the emphasis on flexibility made it difficult to maintain large projects over long periods of time.\n",
    "\n",
    "It was difficult, tedious, and time-consuming to review code and try to figure out\n",
    "what someone else was thinking when they were solving a complex problem."
   ]
  },
  {
   "cell_type": "markdown",
   "id": "floppy-lender",
   "metadata": {},
   "source": [
    "Now, there are some traditional values for Python, which we can use. We have the facility to see these by typing \n",
    "import this\n",
    "command in a Python terminal.\n",
    "These are the pointers :\n",
    "\n",
    "Beautiful is better than ugly.\n",
    "\n",
    "Explicit is better than implicit.\n",
    "\n",
    "Simple is better than complex.\n",
    "\n",
    "Complex is better than complicated.\n",
    "\n",
    "Flat is better than nested.\n",
    "\n",
    "Sparse is better than dense.\n",
    "\n",
    "Readability counts.\n",
    "\n",
    "Special cases aren't special enough to break the rules.\n",
    "\n",
    "Although practicality beats purity.\n",
    "\n",
    "Errors should never pass silently.\n",
    "\n",
    "Unless explicitly silenced.\n",
    "\n",
    "In the face of ambiguity, refuse the temptation to guess.\n",
    "\n",
    "There should be one-- and preferably only one --obvious way to do it.\n",
    "\n",
    "Although that way may not be obvious at first unless you're Dutch.\n",
    "\n",
    "Now is better than never.\n",
    "\n",
    "Although never is often better than *right* now.\n",
    "\n",
    "If the implementation is hard to explain, it's a bad idea.\n",
    "\n",
    "If the implementation is easy to explain, it may be a good idea.\n",
    "\n",
    "Namespaces are one honking great idea -- let's do more of those!"
   ]
  },
  {
   "cell_type": "markdown",
   "id": "demographic-cooperative",
   "metadata": {},
   "source": [
    "#### This was based on 'The Zen of Python' by Tim Peters"
   ]
  },
  {
   "cell_type": "markdown",
   "id": "becoming-designation",
   "metadata": {},
   "source": [
    "If you have gone through it, thank you for your time, and I hope this was exciting."
   ]
  }
 ],
 "metadata": {
  "kernelspec": {
   "display_name": "Python 3",
   "language": "python",
   "name": "python3"
  },
  "language_info": {
   "codemirror_mode": {
    "name": "ipython",
    "version": 3
   },
   "file_extension": ".py",
   "mimetype": "text/x-python",
   "name": "python",
   "nbconvert_exporter": "python",
   "pygments_lexer": "ipython3",
   "version": "3.8.5"
  }
 },
 "nbformat": 4,
 "nbformat_minor": 5
}

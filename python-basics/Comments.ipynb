{
 "cells": [
  {
   "cell_type": "markdown",
   "id": "commercial-intention",
   "metadata": {},
   "source": [
    "### Comments in Python"
   ]
  },
  {
   "cell_type": "markdown",
   "id": "designed-surveillance",
   "metadata": {},
   "source": [
    "#### What are comments?"
   ]
  },
  {
   "cell_type": "markdown",
   "id": "grateful-cross",
   "metadata": {},
   "source": [
    "Comments are an extremely useful feature in most programming languages. Everything we’ve written in our programs so far is Python code. As our programs become longer and more complicated, we should add notes within our programs that describe our overall approach to the problem we’re solving. A comment allows us to write notes in English within our programs"
   ]
  },
  {
   "cell_type": "markdown",
   "id": "every-johnson",
   "metadata": {},
   "source": [
    "In Python, '#'(hash) symbol represents a single-line comment"
   ]
  },
  {
   "cell_type": "code",
   "execution_count": 4,
   "id": "challenging-rolling",
   "metadata": {},
   "outputs": [],
   "source": [
    "# Introduction to understand the mess\n",
    "print(\"Welcome to the real world\")"
   ]
  },
  {
   "cell_type": "markdown",
   "id": "induced-arrangement",
   "metadata": {},
   "source": [
    "A multiline comment is denoted by '''      '''"
   ]
  },
  {
   "cell_type": "code",
   "execution_count": 9,
   "id": "plain-salon",
   "metadata": {},
   "outputs": [],
   "source": [
    "\"\"\"\n",
    "This is a multi-line comment using string literal\n",
    "We can write as many lines as we want\n",
    "in between this\n",
    "\"\"\"\n",
    "print(\"Hello\")"
   ]
  },
  {
   "cell_type": "markdown",
   "id": "surface-rough",
   "metadata": {},
   "source": [
    "#### Why should we write a comment?"
   ]
  },
  {
   "cell_type": "markdown",
   "id": "psychological-departure",
   "metadata": {},
   "source": [
    "The main reason to write comments is to explain what our code is supposed to do and how we are making it work. When we’re in the middle of working on a project, we understand how all of the pieces fit together.\n",
    "\n",
    "But when we return to a project after some time away, we’re likely to have forgotten some of the details. We can always study our code for a while and figure out how segments were supposed to work, but writing good comments can save us time by summarizing our overall approach in clear English."
   ]
  }
 ],
 "metadata": {
  "kernelspec": {
   "display_name": "Python 3",
   "language": "python",
   "name": "python3"
  },
  "language_info": {
   "codemirror_mode": {
    "name": "ipython",
    "version": 3
   },
   "file_extension": ".py",
   "mimetype": "text/x-python",
   "name": "python",
   "nbconvert_exporter": "python",
   "pygments_lexer": "ipython3",
   "version": "3.8.5"
  }
 },
 "nbformat": 4,
 "nbformat_minor": 5
}

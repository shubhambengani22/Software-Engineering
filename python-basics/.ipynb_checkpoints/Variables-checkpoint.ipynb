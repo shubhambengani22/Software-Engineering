{
 "cells": [
  {
   "cell_type": "markdown",
   "id": "heard-combining",
   "metadata": {},
   "source": [
    "## Variables"
   ]
  },
  {
   "cell_type": "markdown",
   "id": "communist-tanzania",
   "metadata": {},
   "source": [
    "Naming variables :\n",
    "1. Variable names can contain only letters, numbers, and underscores. \n",
    "2. Spaces are not allowed in variable names, but underscores can be used to separate words in variable names. \n",
    "3. Avoid using Python keywords and function names as variable names; that is, do not use words that Python has reserved for a particular programmatic purpose, such as the word print. \n",
    "4. Variable names should be short but descriptive. For example, name is better than n, student_name is better than s_n, and name_length is better than length_of_persons_name."
   ]
  },
  {
   "cell_type": "code",
   "execution_count": 2,
   "id": "defined-scholar",
   "metadata": {},
   "outputs": [],
   "source": [
    "#message = \"Hello Python world!\"\n",
    "#print(message)"
   ]
  },
  {
   "cell_type": "markdown",
   "id": "democratic-consequence",
   "metadata": {},
   "source": [
    "We’ve added a variable named message. Every variable holds a value, which\n",
    "is the information associated with that variable. In this case the value is the\n",
    "text “Hello Python world!”"
   ]
  },
  {
   "cell_type": "markdown",
   "id": "understood-punishment",
   "metadata": {},
   "source": [
    "#### Try it out"
   ]
  },
  {
   "cell_type": "code",
   "execution_count": null,
   "id": "eastern-finger",
   "metadata": {},
   "outputs": [],
   "source": []
  },
  {
   "cell_type": "markdown",
   "id": "standing-tradition",
   "metadata": {},
   "source": [
    "You can change the value of a variable in your program at any time,\n",
    "and Python will always keep track of its current value."
   ]
  },
  {
   "cell_type": "code",
   "execution_count": 3,
   "id": "constitutional-marker",
   "metadata": {},
   "outputs": [],
   "source": [
    "#message = \"Hello Python world!\"\n",
    "#print(message)\n",
    "#message = \"Hello Python Crash Course world!\"\n",
    "#print(message)"
   ]
  },
  {
   "cell_type": "markdown",
   "id": "macro-default",
   "metadata": {},
   "source": [
    "#### Try it out"
   ]
  },
  {
   "cell_type": "code",
   "execution_count": null,
   "id": "going-behalf",
   "metadata": {},
   "outputs": [],
   "source": []
  }
 ],
 "metadata": {
  "kernelspec": {
   "display_name": "Python 3",
   "language": "python",
   "name": "python3"
  },
  "language_info": {
   "codemirror_mode": {
    "name": "ipython",
    "version": 3
   },
   "file_extension": ".py",
   "mimetype": "text/x-python",
   "name": "python",
   "nbconvert_exporter": "python",
   "pygments_lexer": "ipython3",
   "version": "3.8.5"
  }
 },
 "nbformat": 4,
 "nbformat_minor": 5
}

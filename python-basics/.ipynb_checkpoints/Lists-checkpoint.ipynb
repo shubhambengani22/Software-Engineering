{
 "cells": [
  {
   "cell_type": "markdown",
   "id": "according-bunny",
   "metadata": {},
   "source": [
    "#### What is a List?"
   ]
  },
  {
   "cell_type": "markdown",
   "id": "nuclear-profession",
   "metadata": {},
   "source": [
    "A list is a collection of items in a particular order.\n",
    "\n",
    "We can make a list that includes the letters of the alphabet, the digits from 0–9, or the names of all the people in your family.\n",
    "\n",
    "We can put anything you want into a list, and the items in our list don’t have to be related in any particular way.\n",
    "\n",
    "Because a list usually contains more than one element, it’s a good idea to make the name of our list plural, such as letters , digits , or names."
   ]
  },
  {
   "cell_type": "code",
   "execution_count": null,
   "id": "studied-facility",
   "metadata": {},
   "outputs": [],
   "source": []
  }
 ],
 "metadata": {
  "kernelspec": {
   "display_name": "Python 3",
   "language": "python",
   "name": "python3"
  },
  "language_info": {
   "codemirror_mode": {
    "name": "ipython",
    "version": 3
   },
   "file_extension": ".py",
   "mimetype": "text/x-python",
   "name": "python",
   "nbconvert_exporter": "python",
   "pygments_lexer": "ipython3",
   "version": "3.8.5"
  }
 },
 "nbformat": 4,
 "nbformat_minor": 5
}

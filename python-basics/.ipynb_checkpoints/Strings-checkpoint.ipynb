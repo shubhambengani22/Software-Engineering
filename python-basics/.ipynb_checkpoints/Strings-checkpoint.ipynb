{
 "cells": [
  {
   "cell_type": "markdown",
   "id": "fundamental-nicholas",
   "metadata": {},
   "source": [
    "A string is simply a series of characters. Anything inside quotes is considered a string in Python, and we can use single or double quotes around our strings"
   ]
  },
  {
   "cell_type": "code",
   "execution_count": 1,
   "id": "federal-chrome",
   "metadata": {},
   "outputs": [],
   "source": [
    "#\"This is a string.\"\n",
    "#'This is also a string.'"
   ]
  },
  {
   "cell_type": "markdown",
   "id": "artificial-swiss",
   "metadata": {},
   "source": [
    "### Changing Case in a String with Methods\n",
    "#### Title Case"
   ]
  },
  {
   "cell_type": "code",
   "execution_count": 2,
   "id": "applicable-clock",
   "metadata": {},
   "outputs": [],
   "source": [
    "#name = \"dumb ass\"\n",
    "#print(name.title())"
   ]
  },
  {
   "cell_type": "markdown",
   "id": "blond-malpractice",
   "metadata": {},
   "source": [
    "If we notice we have used a '.' after our string, so this title() is a method, similar to print(). So, this method is defined somewhere which has all the utilities required for our task, and we have called it on our string. So, it performs the action on our string and converts it to title case."
   ]
  },
  {
   "cell_type": "markdown",
   "id": "brief-general",
   "metadata": {},
   "source": [
    "#### Guess the output, and Try it out"
   ]
  },
  {
   "cell_type": "code",
   "execution_count": null,
   "id": "documented-metallic",
   "metadata": {},
   "outputs": [],
   "source": []
  },
  {
   "cell_type": "markdown",
   "id": "brave-reply",
   "metadata": {},
   "source": [
    "#### Lower Case"
   ]
  },
  {
   "cell_type": "code",
   "execution_count": 3,
   "id": "tested-valuation",
   "metadata": {},
   "outputs": [],
   "source": [
    "#name = \"dumb ass\"\n",
    "#print(name.lower())"
   ]
  },
  {
   "cell_type": "markdown",
   "id": "scheduled-chart",
   "metadata": {},
   "source": [
    "Lower is particularly useful in stroring data. This is because, it is easier to compare, search, while saving or fetching the data, because of no case ambiguity, i.e. the whole text has a uniform case. Same goes with upper case, but by convention we prefer lower"
   ]
  },
  {
   "cell_type": "markdown",
   "id": "german-depression",
   "metadata": {},
   "source": [
    "#### Guess the output and Try it out"
   ]
  },
  {
   "cell_type": "code",
   "execution_count": null,
   "id": "color-couple",
   "metadata": {},
   "outputs": [],
   "source": []
  },
  {
   "cell_type": "markdown",
   "id": "fallen-abortion",
   "metadata": {},
   "source": [
    "#### Upper Case"
   ]
  },
  {
   "cell_type": "code",
   "execution_count": 4,
   "id": "amateur-density",
   "metadata": {},
   "outputs": [],
   "source": [
    "#name = \"dumb ass\"\n",
    "#print(name.upper())"
   ]
  },
  {
   "cell_type": "markdown",
   "id": "minor-judges",
   "metadata": {},
   "source": [
    "#### Guess the output and try it out"
   ]
  },
  {
   "cell_type": "code",
   "execution_count": null,
   "id": "piano-being",
   "metadata": {},
   "outputs": [],
   "source": []
  },
  {
   "cell_type": "markdown",
   "id": "thick-solid",
   "metadata": {},
   "source": [
    "#### Combining or Concatenating Strings"
   ]
  },
  {
   "cell_type": "code",
   "execution_count": 5,
   "id": "generic-jordan",
   "metadata": {},
   "outputs": [],
   "source": [
    "#firstname = \"dumb\"\n",
    "#lastname = \"ass\"\n",
    "#fullname = firstname + \" \" + lastname\n",
    "#print(fullname)"
   ]
  },
  {
   "cell_type": "markdown",
   "id": "palestinian-catalyst",
   "metadata": {},
   "source": [
    "'+' helps us combine the expressions on both sides of the operator"
   ]
  },
  {
   "cell_type": "markdown",
   "id": "white-rating",
   "metadata": {},
   "source": [
    "#### Guess the answer and Try it out"
   ]
  },
  {
   "cell_type": "code",
   "execution_count": null,
   "id": "pediatric-leonard",
   "metadata": {},
   "outputs": [],
   "source": []
  },
  {
   "cell_type": "markdown",
   "id": "floral-illinois",
   "metadata": {},
   "source": [
    "#### Adding whitespaces to strings with tabs or newlines"
   ]
  },
  {
   "cell_type": "markdown",
   "id": "broke-works",
   "metadata": {},
   "source": [
    "\\n - New Line\n",
    "\n",
    "\\t - Tab"
   ]
  },
  {
   "cell_type": "code",
   "execution_count": 6,
   "id": "electrical-thesaurus",
   "metadata": {},
   "outputs": [],
   "source": [
    "#print(\"Python\")"
   ]
  },
  {
   "cell_type": "markdown",
   "id": "hearing-transmission",
   "metadata": {},
   "source": [
    "#### Guess the output and Try it out"
   ]
  },
  {
   "cell_type": "code",
   "execution_count": null,
   "id": "sunset-imagination",
   "metadata": {},
   "outputs": [],
   "source": []
  },
  {
   "cell_type": "code",
   "execution_count": 7,
   "id": "radical-wallace",
   "metadata": {},
   "outputs": [],
   "source": [
    "#print(\"\\tPython\")"
   ]
  },
  {
   "cell_type": "markdown",
   "id": "written-liquid",
   "metadata": {},
   "source": [
    "#### Guess the output and Try it out"
   ]
  },
  {
   "cell_type": "code",
   "execution_count": null,
   "id": "creative-server",
   "metadata": {},
   "outputs": [],
   "source": []
  },
  {
   "cell_type": "markdown",
   "id": "protecting-capability",
   "metadata": {},
   "source": [
    "#### Stripping whitespaces"
   ]
  },
  {
   "cell_type": "markdown",
   "id": "brazilian-winner",
   "metadata": {},
   "source": [
    "Extra whitespace can be confusing to the programs. To us 'python' and 'python ' are the same, but to Python, these two are separate strings.\n",
    "It's important to strip spaces in order to get accurate comparisons. For example, while retrieving passwords from a form to our code, we may encounter extra whitespace in the beginning or in the end of the string due to unintended spaces. So, while comparing it to the original password, we should remove the spaces from both, or either of the sides."
   ]
  },
  {
   "cell_type": "markdown",
   "id": "editorial-prototype",
   "metadata": {},
   "source": [
    "There can be 3 ways to do so :\n",
    "\n",
    "1. rstrip() - Removes the extra whitespace(s) from the right side(end)\n",
    "\n",
    "2. lstrip() - Removes the extra whitespace(s) from the left side(start)\n",
    "\n",
    "3. strip() - Removes the extra whitespace(s) from both the ends"
   ]
  },
  {
   "cell_type": "code",
   "execution_count": 8,
   "id": "saved-anatomy",
   "metadata": {},
   "outputs": [],
   "source": [
    "#favorite_language = ' python '"
   ]
  },
  {
   "cell_type": "markdown",
   "id": "narrow-birmingham",
   "metadata": {},
   "source": [
    "Note - favorite_language is not assigned and hence changed, rather simply used"
   ]
  },
  {
   "cell_type": "code",
   "execution_count": null,
   "id": "equivalent-cincinnati",
   "metadata": {},
   "outputs": [],
   "source": [
    "#favorite_language.rstrip()"
   ]
  },
  {
   "cell_type": "markdown",
   "id": "internal-guard",
   "metadata": {},
   "source": [
    "#### Guess the answer and Try it out"
   ]
  },
  {
   "cell_type": "code",
   "execution_count": null,
   "id": "stupid-protest",
   "metadata": {},
   "outputs": [],
   "source": []
  },
  {
   "cell_type": "code",
   "execution_count": null,
   "id": "thick-specific",
   "metadata": {},
   "outputs": [],
   "source": [
    "#favorite_language.lstrip()"
   ]
  },
  {
   "cell_type": "markdown",
   "id": "designing-memorabilia",
   "metadata": {},
   "source": [
    "#### Guess the answer and Try it out"
   ]
  },
  {
   "cell_type": "code",
   "execution_count": null,
   "id": "sapphire-shape",
   "metadata": {},
   "outputs": [],
   "source": []
  },
  {
   "cell_type": "code",
   "execution_count": null,
   "id": "generous-garage",
   "metadata": {},
   "outputs": [],
   "source": [
    "#favorite_language.strip()"
   ]
  },
  {
   "cell_type": "markdown",
   "id": "interested-liberty",
   "metadata": {},
   "source": [
    "#### Guess the answer and Try it out"
   ]
  },
  {
   "cell_type": "code",
   "execution_count": null,
   "id": "random-campus",
   "metadata": {},
   "outputs": [],
   "source": []
  },
  {
   "cell_type": "markdown",
   "id": "insured-sperm",
   "metadata": {},
   "source": [
    "#### Common Mistake"
   ]
  },
  {
   "cell_type": "code",
   "execution_count": 9,
   "id": "pending-edward",
   "metadata": {},
   "outputs": [],
   "source": [
    "#message = 'One of Python's strengths is its diversity'"
   ]
  },
  {
   "cell_type": "markdown",
   "id": "fitting-multimedia",
   "metadata": {},
   "source": [
    "Note - We have used single quotes to declare the string and we have also used single quote inside the string"
   ]
  },
  {
   "cell_type": "markdown",
   "id": "embedded-gazette",
   "metadata": {},
   "source": [
    "#### Guess the answer and Try it out"
   ]
  },
  {
   "cell_type": "code",
   "execution_count": null,
   "id": "extra-issue",
   "metadata": {},
   "outputs": [],
   "source": []
  },
  {
   "cell_type": "markdown",
   "id": "streaming-strength",
   "metadata": {},
   "source": [
    "#### Some more commonly used methods on strings"
   ]
  },
  {
   "cell_type": "markdown",
   "id": "nuclear-wages",
   "metadata": {},
   "source": [
    "format()"
   ]
  },
  {
   "cell_type": "code",
   "execution_count": 10,
   "id": "fossil-albania",
   "metadata": {},
   "outputs": [],
   "source": [
    "#txt1 = \"My name is {fname}, I'm {age}\".format(fname = \"John\", age = 36)\n",
    "#txt2 = \"My name is {0}, I'm {1}\".format(\"John\",36)\n",
    "#txt3 = \"My name is {}, I'm {}\".format(\"John\",36)"
   ]
  },
  {
   "cell_type": "markdown",
   "id": "lucky-reserve",
   "metadata": {},
   "source": [
    "Note - This is very useful in print function as well, widely used"
   ]
  },
  {
   "cell_type": "code",
   "execution_count": null,
   "id": "guided-christopher",
   "metadata": {},
   "outputs": [],
   "source": []
  },
  {
   "cell_type": "markdown",
   "id": "local-silence",
   "metadata": {},
   "source": [
    "capitalize()"
   ]
  },
  {
   "cell_type": "code",
   "execution_count": 11,
   "id": "common-festival",
   "metadata": {},
   "outputs": [],
   "source": [
    "#txt = \"hello, and welcome to my world.\"\n",
    "#x = txt.capitalize()\n",
    "#print(x)"
   ]
  },
  {
   "cell_type": "code",
   "execution_count": null,
   "id": "sharing-statistics",
   "metadata": {},
   "outputs": [],
   "source": []
  },
  {
   "cell_type": "markdown",
   "id": "olympic-murray",
   "metadata": {},
   "source": [
    "count() - returns the number of times a specified value has occured in a string"
   ]
  },
  {
   "cell_type": "code",
   "execution_count": 12,
   "id": "scientific-evolution",
   "metadata": {},
   "outputs": [],
   "source": [
    "#txt = \"I love apples, apple are my favorite fruit\"\n",
    "#x = txt.count(\"apple\")\n",
    "#print(x)"
   ]
  },
  {
   "cell_type": "code",
   "execution_count": null,
   "id": "peripheral-purpose",
   "metadata": {},
   "outputs": [],
   "source": []
  },
  {
   "cell_type": "markdown",
   "id": "promising-prince",
   "metadata": {},
   "source": [
    "find() - Finds the first occurance of the specified value, if not found, returns -1\n",
    "\n",
    "index() - Finds the first occurance of the specified value, if not found, raises an exception"
   ]
  },
  {
   "cell_type": "markdown",
   "id": "greenhouse-temperature",
   "metadata": {},
   "source": [
    "Syntax - find(value, start, end) [Start and end are optional, it specifies the start of the string, and end, where the value has to be looked, if not specified, it takes as the whole string]\n",
    "\n",
    "Syntax - index(value, start, end) [Start and end are optional, it specifies the start of the string, and end, where the value has to be looked, if not specified, it takes as the whole string]"
   ]
  },
  {
   "cell_type": "code",
   "execution_count": 13,
   "id": "parallel-proposal",
   "metadata": {},
   "outputs": [],
   "source": [
    "#txt = \"Hello, welcome to my world.\"\n",
    "\n",
    "#print(txt.find(\"q\"))\n",
    "#x = txt.find(\"e\", 5, 10)\n",
    "\n",
    "#print(txt.index(\"q\"))"
   ]
  },
  {
   "cell_type": "code",
   "execution_count": null,
   "id": "dirty-thunder",
   "metadata": {},
   "outputs": [],
   "source": []
  },
  {
   "cell_type": "markdown",
   "id": "abstract-corps",
   "metadata": {},
   "source": [
    "isalpha() - Checks if all the characters in the string are alphabets"
   ]
  },
  {
   "cell_type": "code",
   "execution_count": 14,
   "id": "delayed-viking",
   "metadata": {},
   "outputs": [],
   "source": [
    "#txt = \"CompanyX\"\n",
    "#x = txt.isalpha()\n",
    "#print(x)"
   ]
  },
  {
   "cell_type": "code",
   "execution_count": null,
   "id": "explicit-hormone",
   "metadata": {},
   "outputs": [],
   "source": []
  },
  {
   "cell_type": "markdown",
   "id": "pending-connecticut",
   "metadata": {},
   "source": [
    "isdigit() - Checks if all the characters in the string are digits"
   ]
  },
  {
   "cell_type": "code",
   "execution_count": 15,
   "id": "bored-thailand",
   "metadata": {},
   "outputs": [],
   "source": [
    "#txt = \"50800\"\n",
    "#x = txt.isdigit()\n",
    "#print(x)"
   ]
  },
  {
   "cell_type": "code",
   "execution_count": null,
   "id": "major-niagara",
   "metadata": {},
   "outputs": [],
   "source": []
  },
  {
   "cell_type": "markdown",
   "id": "decimal-lobby",
   "metadata": {},
   "source": [
    "join() - Takes all items in an iterable(list, dict, tuples, string) and joins them into one string, using a character or a string as a separator\n",
    "\n",
    "Usage - string.join(iterable)"
   ]
  },
  {
   "cell_type": "code",
   "execution_count": 16,
   "id": "decent-soccer",
   "metadata": {},
   "outputs": [],
   "source": [
    "#myTuple = [\"John\", \"Peter\", \"Vicky\"]\n",
    "#x = \"#\".join(myTuple)\n",
    "#print(x)"
   ]
  },
  {
   "cell_type": "markdown",
   "id": "acting-fleece",
   "metadata": {},
   "source": [
    "Note - A list denoted by [] is like an array in Python\n",
    "\n",
    "Note - In the example about, the separator used is #, which means the words are joined by #\n",
    "\n",
    "Output - \"John#Peter#Vicky\""
   ]
  },
  {
   "cell_type": "code",
   "execution_count": null,
   "id": "universal-introduction",
   "metadata": {},
   "outputs": [],
   "source": []
  },
  {
   "cell_type": "markdown",
   "id": "structured-savage",
   "metadata": {},
   "source": [
    "replace() - Replaces a value with another in a string"
   ]
  },
  {
   "cell_type": "code",
   "execution_count": 17,
   "id": "checked-coalition",
   "metadata": {},
   "outputs": [],
   "source": [
    "#txt = \"I like bananas\"\n",
    "#x = txt.replace(\"bananas\", \"apples\")\n",
    "#print(x)"
   ]
  },
  {
   "cell_type": "code",
   "execution_count": null,
   "id": "alike-right",
   "metadata": {},
   "outputs": [],
   "source": []
  },
  {
   "cell_type": "markdown",
   "id": "better-project",
   "metadata": {},
   "source": [
    "split() - Splits a string into a list, based on a separator"
   ]
  },
  {
   "cell_type": "code",
   "execution_count": 18,
   "id": "placed-duplicate",
   "metadata": {},
   "outputs": [],
   "source": [
    "#txt = \"welcome to the jungle\"\n",
    "#x = txt.split()      #By default, the delimiter is a space\n",
    "#print(x)"
   ]
  },
  {
   "cell_type": "code",
   "execution_count": null,
   "id": "rubber-handle",
   "metadata": {},
   "outputs": [],
   "source": []
  },
  {
   "cell_type": "code",
   "execution_count": 19,
   "id": "phantom-request",
   "metadata": {},
   "outputs": [],
   "source": [
    "#txt = \"hello, my name is Peter, I am 26 years old\"\n",
    "#x = txt.split(\", \")\n",
    "#print(x)"
   ]
  },
  {
   "cell_type": "code",
   "execution_count": null,
   "id": "painful-discussion",
   "metadata": {},
   "outputs": [],
   "source": []
  }
 ],
 "metadata": {
  "kernelspec": {
   "display_name": "Python 3",
   "language": "python",
   "name": "python3"
  },
  "language_info": {
   "codemirror_mode": {
    "name": "ipython",
    "version": 3
   },
   "file_extension": ".py",
   "mimetype": "text/x-python",
   "name": "python",
   "nbconvert_exporter": "python",
   "pygments_lexer": "ipython3",
   "version": "3.8.5"
  }
 },
 "nbformat": 4,
 "nbformat_minor": 5
}

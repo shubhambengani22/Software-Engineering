{
 "cells": [
  {
   "cell_type": "markdown",
   "id": "seventh-drill",
   "metadata": {},
   "source": [
    "### Numbers"
   ]
  },
  {
   "cell_type": "markdown",
   "id": "fleet-sector",
   "metadata": {},
   "source": [
    "Numbers are used quite often in programming to keep score in games, represent data in visualizations, store information in web applications, and so on. Python treats numbers in several different ways, depending on how they are being used."
   ]
  },
  {
   "cell_type": "markdown",
   "id": "brown-juvenile",
   "metadata": {},
   "source": [
    "#### Integers"
   ]
  },
  {
   "cell_type": "markdown",
   "id": "stable-bracket",
   "metadata": {},
   "source": [
    "We can add ( + ), subtract ( - ), multiply ( * ), and divide ( / ) integers in Python."
   ]
  },
  {
   "cell_type": "code",
   "execution_count": 1,
   "id": "indoor-intro",
   "metadata": {},
   "outputs": [],
   "source": [
    "# 2 + 3"
   ]
  },
  {
   "cell_type": "code",
   "execution_count": 2,
   "id": "written-microphone",
   "metadata": {},
   "outputs": [],
   "source": [
    "# 2 * 3"
   ]
  },
  {
   "cell_type": "code",
   "execution_count": 3,
   "id": "becoming-december",
   "metadata": {},
   "outputs": [],
   "source": [
    "# 2 ** 4 (** represents exponents)"
   ]
  },
  {
   "cell_type": "code",
   "execution_count": 4,
   "id": "naked-enlargement",
   "metadata": {},
   "outputs": [],
   "source": [
    "# 4 / 2"
   ]
  },
  {
   "cell_type": "markdown",
   "id": "prerequisite-installation",
   "metadata": {},
   "source": [
    "#### Float"
   ]
  },
  {
   "cell_type": "markdown",
   "id": "printable-boxing",
   "metadata": {},
   "source": [
    "Python calls any number with a decimal point a float, as a matter of fact most of the languages coin the same term and it refers to the fact that a decimal point can appear at any position in a number."
   ]
  },
  {
   "cell_type": "code",
   "execution_count": 9,
   "id": "advance-result",
   "metadata": {},
   "outputs": [],
   "source": [
    "# 0.1 + 0.1"
   ]
  },
  {
   "cell_type": "code",
   "execution_count": 10,
   "id": "coordinate-camcorder",
   "metadata": {},
   "outputs": [],
   "source": [
    "# 2 + 0.1"
   ]
  },
  {
   "cell_type": "markdown",
   "id": "treated-actress",
   "metadata": {},
   "source": [
    "Integer division - Dividing two integers must give an integer.\n",
    "Normally it gives a float"
   ]
  },
  {
   "cell_type": "code",
   "execution_count": 11,
   "id": "toxic-advance",
   "metadata": {},
   "outputs": [],
   "source": [
    "# 2 / 1"
   ]
  },
  {
   "cell_type": "markdown",
   "id": "improved-professional",
   "metadata": {},
   "source": [
    "#### Guess the output and Try it out"
   ]
  },
  {
   "cell_type": "code",
   "execution_count": null,
   "id": "heard-mountain",
   "metadata": {},
   "outputs": [],
   "source": []
  },
  {
   "cell_type": "code",
   "execution_count": 12,
   "id": "useful-liabilities",
   "metadata": {},
   "outputs": [],
   "source": [
    "# // represents integer division\n",
    "# 2 // 1"
   ]
  },
  {
   "cell_type": "markdown",
   "id": "integral-paradise",
   "metadata": {},
   "source": [
    "#### Guess the output and Try it out"
   ]
  },
  {
   "cell_type": "code",
   "execution_count": null,
   "id": "minus-atlanta",
   "metadata": {},
   "outputs": [],
   "source": []
  },
  {
   "cell_type": "code",
   "execution_count": 15,
   "id": "czech-revelation",
   "metadata": {},
   "outputs": [],
   "source": [
    "# But if we change it slightly, replacing the denominator by a floating point number, lets see what happens\n",
    "# 2 // 1.0"
   ]
  },
  {
   "cell_type": "markdown",
   "id": "uniform-firewall",
   "metadata": {},
   "source": [
    "#### Guess the output and Try it out"
   ]
  },
  {
   "cell_type": "code",
   "execution_count": null,
   "id": "resident-communication",
   "metadata": {},
   "outputs": [],
   "source": []
  },
  {
   "cell_type": "markdown",
   "id": "coordinate-reach",
   "metadata": {},
   "source": [
    "Since, we are now familiar with float and integers, let's see the formatting of these numbers. Formatting means how we display the number, how precise do we want it.\n",
    "For example, 2.0986437\n",
    "We may want to display it precise upto 2 decimal points or 3 or 4 and so on"
   ]
  },
  {
   "cell_type": "code",
   "execution_count": 17,
   "id": "dried-sharp",
   "metadata": {},
   "outputs": [],
   "source": [
    "# '{:.2f}'.format(10.12345)"
   ]
  },
  {
   "cell_type": "markdown",
   "id": "colored-slope",
   "metadata": {},
   "source": [
    "In the above example, 'f' represents floating point number and we want to get it precise upto 2 decimal places"
   ]
  },
  {
   "cell_type": "markdown",
   "id": "domestic-spouse",
   "metadata": {},
   "source": [
    "#### Guess the output and Try it out, also try out other variations if you want"
   ]
  },
  {
   "cell_type": "code",
   "execution_count": null,
   "id": "julian-wallpaper",
   "metadata": {},
   "outputs": [],
   "source": []
  },
  {
   "cell_type": "markdown",
   "id": "threaded-smoke",
   "metadata": {},
   "source": [
    "Padding a number with a spaces/zeros from left or right"
   ]
  },
  {
   "cell_type": "markdown",
   "id": "executive-assignment",
   "metadata": {},
   "source": [
    "Left padding - make 3 to '00....3'"
   ]
  },
  {
   "cell_type": "code",
   "execution_count": 21,
   "id": "sufficient-crowd",
   "metadata": {},
   "outputs": [],
   "source": [
    "# '{:>13}'.format(3)"
   ]
  },
  {
   "cell_type": "markdown",
   "id": "adjustable-addiction",
   "metadata": {},
   "source": [
    "The possible options are ''(nothing, means empty space), or 0\n",
    "In the example above, Python understands that we have asked it to pad(fill the gap, or add extra characters) it with empty space to make the total string length as 13"
   ]
  },
  {
   "cell_type": "markdown",
   "id": "coordinate-variance",
   "metadata": {},
   "source": [
    "#### Guess the output and Try it out"
   ]
  },
  {
   "cell_type": "code",
   "execution_count": null,
   "id": "mathematical-lesbian",
   "metadata": {},
   "outputs": [],
   "source": []
  },
  {
   "cell_type": "code",
   "execution_count": 24,
   "id": "subject-clinton",
   "metadata": {},
   "outputs": [],
   "source": [
    "# '{:>013}'.format(3)"
   ]
  },
  {
   "cell_type": "markdown",
   "id": "durable-cabin",
   "metadata": {},
   "source": [
    "To extend the last example, we can say that we want zeros in the start, to make the total length of the string as 13, we can put any number in front of that"
   ]
  },
  {
   "cell_type": "markdown",
   "id": "registered-watson",
   "metadata": {},
   "source": [
    "#### Guess the output and Try it out"
   ]
  },
  {
   "cell_type": "code",
   "execution_count": null,
   "id": "after-calvin",
   "metadata": {},
   "outputs": [],
   "source": []
  },
  {
   "cell_type": "markdown",
   "id": "awful-combination",
   "metadata": {},
   "source": [
    "Right padding - Adding characters at the end, just invert the > sign to <"
   ]
  },
  {
   "cell_type": "code",
   "execution_count": 26,
   "id": "seventh-improvement",
   "metadata": {},
   "outputs": [],
   "source": [
    "# '{:<11}'.format(3.49)"
   ]
  },
  {
   "cell_type": "markdown",
   "id": "wanted-marshall",
   "metadata": {},
   "source": [
    "In the above example it append empty space to the end to make the length of the string as 11"
   ]
  },
  {
   "cell_type": "markdown",
   "id": "latter-airfare",
   "metadata": {},
   "source": [
    "#### Guess the output and Try it out"
   ]
  },
  {
   "cell_type": "code",
   "execution_count": null,
   "id": "cubic-share",
   "metadata": {},
   "outputs": [],
   "source": []
  },
  {
   "cell_type": "code",
   "execution_count": 31,
   "id": "saving-drink",
   "metadata": {},
   "outputs": [],
   "source": [
    "# '{:<010}'.format(3.49)"
   ]
  },
  {
   "cell_type": "markdown",
   "id": "reasonable-bacon",
   "metadata": {},
   "source": [
    "In the above example, we append 0's at the end to make its length 10"
   ]
  },
  {
   "cell_type": "markdown",
   "id": "duplicate-nicholas",
   "metadata": {},
   "source": [
    "#### Guess the output and Try it out"
   ]
  },
  {
   "cell_type": "code",
   "execution_count": null,
   "id": "victorian-accent",
   "metadata": {},
   "outputs": [],
   "source": []
  },
  {
   "cell_type": "markdown",
   "id": "continental-norfolk",
   "metadata": {},
   "source": [
    "#### Note - If we give the length shorter than the length of the string, it doesnt give any error, instead it returns the string, unmodified"
   ]
  },
  {
   "cell_type": "markdown",
   "id": "caroline-carry",
   "metadata": {},
   "source": [
    "Using commas as thousand separator"
   ]
  },
  {
   "cell_type": "code",
   "execution_count": 33,
   "id": "standard-spiritual",
   "metadata": {},
   "outputs": [],
   "source": [
    "# '{:,}'.format(1000000000)"
   ]
  },
  {
   "cell_type": "markdown",
   "id": "recent-saver",
   "metadata": {},
   "source": [
    "It append a comma after every 3 places"
   ]
  },
  {
   "cell_type": "markdown",
   "id": "certified-therapy",
   "metadata": {},
   "source": [
    "#### Guess the output and Try it out"
   ]
  },
  {
   "cell_type": "code",
   "execution_count": null,
   "id": "norman-account",
   "metadata": {},
   "outputs": [],
   "source": []
  },
  {
   "cell_type": "markdown",
   "id": "unlikely-letter",
   "metadata": {},
   "source": [
    "#### Guess the output and Try it out"
   ]
  },
  {
   "cell_type": "code",
   "execution_count": 35,
   "id": "experienced-calvin",
   "metadata": {},
   "outputs": [],
   "source": [
    "# age = 23\n",
    "# message = \"Happy \" + age + \"rd Birthday!\"\n",
    "# print(message)"
   ]
  },
  {
   "cell_type": "code",
   "execution_count": null,
   "id": "located-glucose",
   "metadata": {},
   "outputs": [],
   "source": []
  },
  {
   "cell_type": "markdown",
   "id": "elegant-somerset",
   "metadata": {},
   "source": [
    "You may see something unusal here, it gives a TypeError, because it cannot recognize the data type that we are using. To avoid this, we can just typecast(converting the data type by ourselves), so here, can just convert the int to str"
   ]
  },
  {
   "cell_type": "code",
   "execution_count": 36,
   "id": "physical-desire",
   "metadata": {},
   "outputs": [],
   "source": [
    "# age = 23\n",
    "# message = \"Happy \" + str(age) + \"rd Birthday!\"\n",
    "# print(message)"
   ]
  },
  {
   "cell_type": "markdown",
   "id": "tutorial-construction",
   "metadata": {},
   "source": [
    "#### Guess the output and Try it out"
   ]
  },
  {
   "cell_type": "code",
   "execution_count": null,
   "id": "wooden-symbol",
   "metadata": {},
   "outputs": [],
   "source": []
  }
 ],
 "metadata": {
  "kernelspec": {
   "display_name": "Python 3",
   "language": "python",
   "name": "python3"
  },
  "language_info": {
   "codemirror_mode": {
    "name": "ipython",
    "version": 3
   },
   "file_extension": ".py",
   "mimetype": "text/x-python",
   "name": "python",
   "nbconvert_exporter": "python",
   "pygments_lexer": "ipython3",
   "version": "3.8.5"
  }
 },
 "nbformat": 4,
 "nbformat_minor": 5
}
